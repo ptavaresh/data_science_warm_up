{
 "cells": [
  {
   "cell_type": "markdown",
   "metadata": {},
   "source": [
    "# Lints"
   ]
  },
  {
   "cell_type": "markdown",
   "metadata": {},
   "source": [
    "## What is a lint?"
   ]
  },
  {
   "cell_type": "markdown",
   "metadata": {},
   "source": [
    "Linters are quality tools that help us to avoid some writting mistakes that you can’t expect yourself to always catch them in time. Mistyped variable names, forgetting a closing bracket, incorrect tabbing in Python, calling a function with the wrong number of arguments, the list goes on and on. Linters help to identify those problem areas."
   ]
  },
  {
   "cell_type": "markdown",
   "metadata": {},
   "source": [
    "Linters analyze code to detect various categories of lint. Those categories can be broadly defined as the following:"
   ]
  },
  {
   "cell_type": "markdown",
   "metadata": {},
   "source": [
    "Logical Lint\n",
    ">1. Code errors\n",
    ">2. Code with potentially unintended results\n",
    ">3. Dangerous code patterns\n",
    "\n",
    "Stylistic Lint\n",
    "\n",
    ">1. Code not conforming to defined conventions"
   ]
  },
  {
   "cell_type": "markdown",
   "metadata": {},
   "source": [
    "## What Are My Linter Options For Python?"
   ]
  },
  {
   "cell_type": "markdown",
   "metadata": {},
   "source": [
    "Python has many options of lints however some of them are just multiple linters packaged together, those are the most popular lints.\n",
    "\n",
    "<strong>Flake8:</strong> Capable of detecting both logical and stylistic lint. It adds the style and complexity checks of pycodestyle to the logical lint detection of PyFlakes. It combines the following linters:\n",
    "\n",
    "- PyFlakes\n",
    "- pycodestyle (formerly pep8)\n",
    "- Mccabe\n",
    "\n",
    "<strong>Pylama:</strong> A code audit tool composed of a large number of linters and other tools for analyzing code. It combines the following:\n",
    "\n",
    "- pycodestyle (formerly pep8)\n",
    "- pydocstyle (formerly pep257)\n",
    "- PyFlakes\n",
    "- Mccabe\n",
    "- Pylint\n",
    "- Radon\n",
    "- gjslint\n"
   ]
  },
  {
   "cell_type": "markdown",
   "metadata": {},
   "source": [
    "## How can i use a lint?"
   ]
  },
  {
   "cell_type": "markdown",
   "metadata": {},
   "source": [
    "This is a flake8 example, first the flake8 needs to be installed through pip command."
   ]
  },
  {
   "cell_type": "raw",
   "metadata": {},
   "source": [
    "python pip install flake8"
   ]
  },
  {
   "cell_type": "markdown",
   "metadata": {},
   "source": [
    "After that, flake8 can be used in the terminal using below example:"
   ]
  },
  {
   "cell_type": "raw",
   "metadata": {},
   "source": [
    "#just one file\n",
    "flake8 path/to/code/to/check.py\n",
    "# or all the files available ina specific path\n",
    "flake8 path/to/code/"
   ]
  },
  {
   "cell_type": "markdown",
   "metadata": {},
   "source": [
    "The output will be something like this:"
   ]
  },
  {
   "cell_type": "raw",
   "metadata": {},
   "source": [
    "./bootcamp/settings.py:96:80: E501 line too long (91 > 79 characters)\n",
    "./bootcamp/settings.py:99:80: E501 line too long (81 > 79 characters)\n",
    "./bootcamp/settings.py:102:80: E501 line too long (82 > 79 characters)\n",
    "./bootcamp/settings.py:105:80: E501 line too long (83 > 79 characters)\n",
    "./bootcamp/settings.py:156:80: E501 line too long (94 > 79 characters)\n",
    "./bootcamp/settings.py:165:5: F403 'from local_settings import *' used; unable to detect undefined names\n",
    "./bootcamp/urls.py:5:1: F401 'django.contrib.auth.views as auth_views' imported but unused\n",
    "./bootcamp/urls.py:6:1: F401 'django.core.urlresolvers.reverse' imported but unused\n",
    "./bootcamp/urls.py:16:80: E501 line too long (88 > 79 characters)\n",
    "./bootcamp/urls.py:17:80: E501 line too long (84 > 79 characters)\n",
    "./bootcamp/urls.py:18:80: E501 line too long (87 > 79 characters)\n",
    "./bootcamp/urls.py:22:80: E501 line too long (80 > 79 characters)\n",
    "./bootcamp/members/forms.py:5:1: F401 'django.forms.extras.SelectDateWidget' imported but unused"
   ]
  },
  {
   "cell_type": "markdown",
   "metadata": {},
   "source": [
    "The output is formatted as:\n",
    "\n",
    "> <strong>file path</strong> : <strong>line number</strong> : <strong>column number</strong> : <strong>error code</strong> : <strong>short description</strong>\n",
    "\n",
    "Error code prefix:\n",
    "\n",
    "<strong>E***/W***</strong>: pep8 errors and warnings<br>\n",
    "<strong>F***</strong>: PyFlakes codes (see below)<br>\n",
    "<strong>C9**</strong>: McCabe complexity plugin mccabe<br>\n",
    "<strong>N8**</strong>: Naming Conventions plugin pep8-naming"
   ]
  }
 ],
 "metadata": {
  "kernelspec": {
   "display_name": "Python 3",
   "language": "python",
   "name": "python3"
  },
  "language_info": {
   "codemirror_mode": {
    "name": "ipython",
    "version": 3
   },
   "file_extension": ".py",
   "mimetype": "text/x-python",
   "name": "python",
   "nbconvert_exporter": "python",
   "pygments_lexer": "ipython3",
   "version": "3.6.8"
  }
 },
 "nbformat": 4,
 "nbformat_minor": 2
}
