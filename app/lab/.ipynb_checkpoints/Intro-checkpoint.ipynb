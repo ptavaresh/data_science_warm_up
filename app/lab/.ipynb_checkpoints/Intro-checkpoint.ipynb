{
 "cells": [
  {
   "cell_type": "markdown",
   "metadata": {},
   "source": [
    "<img src=\"https://www.tiempodev.com/wp-content/themes/tiempo/assets/images/logo.png\" align=\"middle\">"
   ]
  },
  {
   "cell_type": "markdown",
   "metadata": {},
   "source": [
    "# Deep Python\n",
    "\n",
    "This series of presentations provide a practical, in-depth look application development using the Python language.   \n",
    "It simplicity and expresiveness have made it a popular choice to develop applications in fields as diverse as Web programming, Networking, IoT, Devops, Desktop programming, Science and Numeric computation, Quantum computing, and AI.  \n",
    "As of June 2019, Python ranks as # 3 in the [TIOBE index](https://www.tiobe.com/tiobe-index/).  \n",
    "\n",
    "> This month Python has reached again an all time high in TIOBE index of 8.5%. If Python can keep this pace, it will probably replace C and Java in 3 to 4 years time, thus becoming the most popular programming language of the world.\n",
    "\n",
    "Increased demand for data science and related jobs will also require more and more Python-skilled professionals.\n",
    "A recent LinkedIn Workforce Report states that:\n",
    "\n",
    ">more than 151,000 data scientist jobs going unfilled across the U.S., with “acute” shortages in New York City, San Francisco, and Los Angeles.\n",
    "\n",
    "The current skills shortage is show in [this](https://2s7gjr373w3x22jf92z99mgm5w-wpengine.netdna-ssl.com/wp-content/uploads/2019/01/KPMG-report.png) graphic:  \n",
    "![skills shortage](https://2s7gjr373w3x22jf92z99mgm5w-wpengine.netdna-ssl.com/wp-content/uploads/2019/01/KPMG-report.png?style=center)\n",
    "The Python language is interpreted, Object Oriented, dynamically typed, and garbage collected. \n",
    "\n",
    "## Interpreters\n",
    "Python source code (*.py) is translated to bytecode (*.pyc), which is interpreted by a stack-based Python Virtual Machine.  \n",
    "CPython is the reference Python implementation.\n",
    "See the CPython interpreter code [here](https://github.com/python/cpython/blob/master/Python/ceval.c)  \n",
    "`python` is the command to execute the Python interpreter.  \n",
    "A Python program is commonly called a script.  \n",
    "To execute a script file:  \n",
    "`python my_script.py`  \n",
    "Since the Python code is given by the contents of the script file, some optimizations are possible.  \n",
    "To execute a module as a script (with one argument \".venv\")  \n",
    "`python3 -m venv .venv`  \n",
    "To execute a single command and then exit:  \n",
    "`python -c \"help()\"`  \n",
    "If we execute `python` without arguments, we get an interactive Read-Eval-Print-Loop (REPL) shell. \n",
    "This type of development environment shell is often used in the exploratory phase of application development. The goal is this case is to be able to quickly change the code to converge on a solution. Basic features to edit input text and obtain help are provided by `python` in interactive mode.  \n",
    "Other python shells, such as `ipython`, `bpython`, `ptpython` and *Jupyter notebook*, provide more elaborate, interactive, rich-output, productivity features.  \n",
    "This is a Jupyter notebook. Jupyter Lab integrates notebooks, code and data.  \n",
    "Notebooks are made up of cells, which can be edited and executed.  \n",
    "To execute a cell in a notebook, hit `<shift><enter>`.  \n",
    "This is a Markdown cell. The next one is a code cell.  \n",
    "Without further ado, the world's most famous program:"
   ]
  },
  {
   "cell_type": "code",
   "execution_count": null,
   "metadata": {},
   "outputs": [],
   "source": [
    "print(\"hello world\")"
   ]
  },
  {
   "cell_type": "markdown",
   "metadata": {
    "toc-hr-collapsed": false
   },
   "source": [
    "## Objects\n",
    "Software objects encapsulate both code and data. Python objects have, among other things:\n",
    "* an identity (returned by the function `id`),\n",
    "* a type (returned by the \"function\" `type`),\n",
    "* reference count (returned by the function `getrefcount` in the module `sys`),\n",
    "* a canonical string representation (given by the function `repr`),\n",
    "* attributes (which can be listed by calling the function `dir`),\n",
    "* some may be 'callable' attributes  \n",
    " - they can be used as functions\n",
    " - given an object, the function `callable` returns True\n",
    " - some times called \"methods\"\"\n",
    "\n",
    "Most objects have names.  \n",
    "Differente names may refer to the same object.\n",
    "\n"
   ]
  },
  {
   "cell_type": "code",
   "execution_count": null,
   "metadata": {},
   "outputs": [],
   "source": [
    "id(\"Hello world\")"
   ]
  },
  {
   "cell_type": "markdown",
   "metadata": {},
   "source": [
    "This next statement makes 'greeting' a name for the literal object \"Hello world\" of type str. \n",
    "* literals `eval` to their own value, \n",
    "* names `eval` to the object they are bound to and, if there is none, a NameError exception is raised  \n",
    "* notice assignment statements do not 'eval' to a value as in C  \n",
    "* for assignments, if the name does not exist, it is created  "
   ]
  },
  {
   "cell_type": "code",
   "execution_count": null,
   "metadata": {},
   "outputs": [],
   "source": [
    "greeting = \"Hello world\""
   ]
  },
  {
   "cell_type": "code",
   "execution_count": null,
   "metadata": {},
   "outputs": [],
   "source": [
    "greeting, id(greeting),type(greeting), repr(greeting)"
   ]
  },
  {
   "cell_type": "code",
   "execution_count": null,
   "metadata": {},
   "outputs": [],
   "source": [
    "# in notebooks, we can get help about an object like this:\n",
    "greeting?"
   ]
  },
  {
   "cell_type": "code",
   "execution_count": null,
   "metadata": {},
   "outputs": [],
   "source": [
    "# list the attributes of the object named \"greeting\"\n",
    "dir(greeting)"
   ]
  },
  {
   "cell_type": "code",
   "execution_count": null,
   "metadata": {},
   "outputs": [],
   "source": [
    "unbound"
   ]
  },
  {
   "cell_type": "markdown",
   "metadata": {},
   "source": [
    "### Types\n",
    "Data types define a set of values and the operations that can be applied to them. This [article](http://www.informit.com/articles/article.aspx?p=453682&seqNum=5) gives a pretty good overview of Python's standard types. Some highlights:  \n",
    "* Numerics: int, bool, float, long, complex\n",
    "* Sequences: str, list, tuple\n",
    "* Sets: set, frozenset\n",
    "* Mappings: dict\n",
    "\n",
    "Secuences are ordered sets of objects. As a consequence, they can be indexed by positive integers (starting at 0).  \n",
    "Maps are unordered collections of objects (values) that can be 'indexed' by another collection of objects (keys).  \n",
    "Dictionaries are implemented using hash tables, which restricts the keys to be hashable.\n",
    "\n",
    "#### Duck typing\n",
    "Objects have strict types, but a name , a.k.a. 'variable', may refer to values of different types during execution (unlike startically typed languages).  \n",
    "We can call a specific method on objects of different types, as long as the object has that method defined and the arguments agree."
   ]
  },
  {
   "cell_type": "code",
   "execution_count": null,
   "metadata": {},
   "outputs": [],
   "source": [
    "greeting = 1\n",
    "greeting?"
   ]
  },
  {
   "cell_type": "code",
   "execution_count": null,
   "metadata": {},
   "outputs": [],
   "source": [
    "id(greeting)"
   ]
  },
  {
   "cell_type": "code",
   "execution_count": null,
   "metadata": {},
   "outputs": [],
   "source": [
    "# what does this print?\n",
    "id(print)"
   ]
  },
  {
   "cell_type": "code",
   "execution_count": null,
   "metadata": {},
   "outputs": [],
   "source": [
    "# what does this print?\n",
    "type(print)"
   ]
  },
  {
   "cell_type": "code",
   "execution_count": null,
   "metadata": {},
   "outputs": [],
   "source": [
    "# what does this print?\n",
    "type(type)"
   ]
  },
  {
   "cell_type": "markdown",
   "metadata": {},
   "source": [
    "New values can be created by expressions."
   ]
  },
  {
   "cell_type": "code",
   "execution_count": null,
   "metadata": {},
   "outputs": [],
   "source": [
    "greeting + 1"
   ]
  },
  {
   "cell_type": "code",
   "execution_count": null,
   "metadata": {},
   "outputs": [],
   "source": [
    "greeting"
   ]
  },
  {
   "cell_type": "markdown",
   "metadata": {},
   "source": [
    "names can be deleted"
   ]
  },
  {
   "cell_type": "code",
   "execution_count": null,
   "metadata": {},
   "outputs": [],
   "source": [
    "del greeting"
   ]
  },
  {
   "cell_type": "code",
   "execution_count": null,
   "metadata": {},
   "outputs": [],
   "source": [
    "greeting"
   ]
  },
  {
   "cell_type": "markdown",
   "metadata": {},
   "source": [
    "### Mutability\n",
    "Python objects may be mutable or inmutable, depending on whether they can change their value after their creation.  \n",
    "It is important to have this in mind when we talk about function arguments.  \n",
    "Mutable objects cannot be used as dictionary keys as they cannot be hashed."
   ]
  },
  {
   "cell_type": "markdown",
   "metadata": {},
   "source": [
    "#### Integers\n",
    "Integers are inmutable"
   ]
  },
  {
   "cell_type": "code",
   "execution_count": null,
   "metadata": {},
   "outputs": [],
   "source": [
    "number = 1"
   ]
  },
  {
   "cell_type": "code",
   "execution_count": null,
   "metadata": {},
   "outputs": [],
   "source": [
    "id(number)"
   ]
  },
  {
   "cell_type": "code",
   "execution_count": null,
   "metadata": {},
   "outputs": [],
   "source": [
    "number = number + 1"
   ]
  },
  {
   "cell_type": "code",
   "execution_count": null,
   "metadata": {},
   "outputs": [],
   "source": [
    "id(number)"
   ]
  },
  {
   "cell_type": "markdown",
   "metadata": {},
   "source": [
    "#### Strings\n",
    "Strings are inmutable"
   ]
  },
  {
   "cell_type": "code",
   "execution_count": null,
   "metadata": {},
   "outputs": [],
   "source": [
    "hello = \"Hello\""
   ]
  },
  {
   "cell_type": "code",
   "execution_count": null,
   "metadata": {},
   "outputs": [],
   "source": [
    "id(hello)"
   ]
  },
  {
   "cell_type": "code",
   "execution_count": null,
   "metadata": {},
   "outputs": [],
   "source": [
    "hello = hello + \" World\""
   ]
  },
  {
   "cell_type": "code",
   "execution_count": null,
   "metadata": {},
   "outputs": [],
   "source": [
    "id(hello)"
   ]
  },
  {
   "cell_type": "markdown",
   "metadata": {},
   "source": [
    "#### Dictionaries \n",
    "Dictionaries are mutable"
   ]
  },
  {
   "cell_type": "code",
   "execution_count": null,
   "metadata": {},
   "outputs": [],
   "source": [
    "symbols = { 'a': 1, 'b': 2}\n",
    "id(symbols)"
   ]
  },
  {
   "cell_type": "code",
   "execution_count": null,
   "metadata": {},
   "outputs": [],
   "source": [
    "symbols['c'] = 1\n",
    "id(symbols)"
   ]
  },
  {
   "cell_type": "markdown",
   "metadata": {},
   "source": [
    "#### Tuples\n",
    "Tuples objects are inmutable, but may contain mutable objects."
   ]
  },
  {
   "cell_type": "code",
   "execution_count": null,
   "metadata": {},
   "outputs": [],
   "source": [
    "columns = \"id\", \"type\", \"value\"\n",
    "id(columns)"
   ]
  },
  {
   "cell_type": "code",
   "execution_count": null,
   "metadata": {},
   "outputs": [],
   "source": [
    "columns = columns + (\"dir\",)\n",
    "id(columns)"
   ]
  },
  {
   "cell_type": "markdown",
   "metadata": {},
   "source": [
    "### Attribute access\n",
    "Object attributes are accessed via \n",
    "* dotted syntax\n",
    "* getattr()\n",
    "* hasattr()\n",
    "* setattr() (builtin object attributes are read-only)\n",
    "* delattr() (builtin object attributes are read-only)\n"
   ]
  },
  {
   "cell_type": "code",
   "execution_count": null,
   "metadata": {},
   "outputs": [],
   "source": [
    "todo = []\n",
    "todo.append('Buy groceries')"
   ]
  },
  {
   "cell_type": "code",
   "execution_count": null,
   "metadata": {},
   "outputs": [],
   "source": [
    "getattr(todo, 'append')"
   ]
  },
  {
   "cell_type": "code",
   "execution_count": null,
   "metadata": {},
   "outputs": [],
   "source": [
    "hasattr(todo, 'reverse')"
   ]
  },
  {
   "cell_type": "code",
   "execution_count": null,
   "metadata": {},
   "outputs": [],
   "source": [
    "def cons(x): return x[0]\n",
    "setattr(todo, 'cons', cons )"
   ]
  },
  {
   "cell_type": "code",
   "execution_count": null,
   "metadata": {},
   "outputs": [],
   "source": [
    "delattr(todo, 'count')"
   ]
  },
  {
   "cell_type": "code",
   "execution_count": null,
   "metadata": {},
   "outputs": [],
   "source": [
    "hasattr(todo, '__class__')"
   ]
  },
  {
   "cell_type": "code",
   "execution_count": null,
   "metadata": {},
   "outputs": [],
   "source": [
    "todo.__class__\n"
   ]
  },
  {
   "cell_type": "markdown",
   "metadata": {},
   "source": [
    "## Modules\n",
    "A module object consists of several statements contained in a file (stdin in interactive mode).  \n",
    "Modules help organize functionality for reuse.  \n",
    "The module when we enter the REPL or execute a script is called `__main__`.  \n",
    "A module has a symbol table for name resolution.  \n",
    "The `locals` function returns a dictionary representing the symbol table in the current scope.  \n",
    "To use objects defined in a different python module, we use the `import`\n",
    " statement.  \n",
    "The import statement updates the current module symbol table.\n",
    "The 'builtins' module is automatically imported.  \n",
    "A package is a collection of modules."
   ]
  },
  {
   "cell_type": "code",
   "execution_count": null,
   "metadata": {},
   "outputs": [],
   "source": [
    "locals()"
   ]
  },
  {
   "cell_type": "code",
   "execution_count": null,
   "metadata": {},
   "outputs": [],
   "source": [
    "import sys"
   ]
  },
  {
   "cell_type": "code",
   "execution_count": null,
   "metadata": {},
   "outputs": [],
   "source": [
    "locals()"
   ]
  },
  {
   "cell_type": "code",
   "execution_count": null,
   "metadata": {},
   "outputs": [],
   "source": [
    "# What does this print?\n",
    "callable(sys)"
   ]
  },
  {
   "cell_type": "code",
   "execution_count": null,
   "metadata": {},
   "outputs": [],
   "source": [
    "# what does this print?\n",
    "type(sys)"
   ]
  },
  {
   "cell_type": "code",
   "execution_count": null,
   "metadata": {},
   "outputs": [],
   "source": [
    "# what does this print?\n",
    "sys"
   ]
  },
  {
   "cell_type": "code",
   "execution_count": null,
   "metadata": {},
   "outputs": [],
   "source": [
    "dir(sys)"
   ]
  },
  {
   "cell_type": "code",
   "execution_count": null,
   "metadata": {},
   "outputs": [],
   "source": [
    "sys.getrefcount(sys)"
   ]
  },
  {
   "cell_type": "markdown",
   "metadata": {},
   "source": [
    "Now, we can import a function to print the bytecode generated by a statement."
   ]
  },
  {
   "cell_type": "code",
   "execution_count": null,
   "metadata": {},
   "outputs": [],
   "source": [
    "import dis"
   ]
  },
  {
   "cell_type": "code",
   "execution_count": null,
   "metadata": {},
   "outputs": [],
   "source": [
    "dis.dis('import sys')"
   ]
  },
  {
   "cell_type": "markdown",
   "metadata": {},
   "source": [
    "The curious reader can now go to [eval.c](https://github.com/python/cpython/blob/master/Python/ceval.c) and see what IMPORT_NAME and STORE_NAME do."
   ]
  },
  {
   "cell_type": "code",
   "execution_count": null,
   "metadata": {},
   "outputs": [],
   "source": [
    "dis.dis('from dis import dis as dasm')"
   ]
  },
  {
   "cell_type": "code",
   "execution_count": null,
   "metadata": {},
   "outputs": [],
   "source": [
    "help('import')"
   ]
  },
  {
   "cell_type": "code",
   "execution_count": null,
   "metadata": {},
   "outputs": [],
   "source": [
    "Of course, hard-core pythonistas always"
   ]
  },
  {
   "cell_type": "code",
   "execution_count": null,
   "metadata": {},
   "outputs": [],
   "source": [
    "import this"
   ]
  },
  {
   "cell_type": "markdown",
   "metadata": {},
   "source": [
    "## Functions\n",
    "Python functions can be created with the def statement."
   ]
  },
  {
   "cell_type": "code",
   "execution_count": null,
   "metadata": {},
   "outputs": [],
   "source": [
    "def increment(x):\n",
    "    return x + 1"
   ]
  },
  {
   "cell_type": "code",
   "execution_count": null,
   "metadata": {},
   "outputs": [],
   "source": [
    "id(increment), type(increment), increment(1), increment, callable(increment)"
   ]
  },
  {
   "cell_type": "code",
   "execution_count": null,
   "metadata": {},
   "outputs": [],
   "source": [
    "dis.dis(increment)"
   ]
  },
  {
   "cell_type": "code",
   "execution_count": null,
   "metadata": {},
   "outputs": [],
   "source": [
    "y = 2\n",
    "def increment(x):\n",
    "    return x + y\n"
   ]
  },
  {
   "cell_type": "code",
   "execution_count": null,
   "metadata": {},
   "outputs": [],
   "source": [
    "dis.dis(increment)\n"
   ]
  },
  {
   "cell_type": "markdown",
   "metadata": {
    "toc-hr-collapsed": true
   },
   "source": [
    "### Parameter passing and return value\n",
    "Function objects accept parameters and return a value.  \n",
    "Actual parameters are mapped to formal parameters by position (order in the call) and also by keyword.  \n",
    "Function parameters may be: \n",
    "* fixed in number (required) positional, \n",
    "* variable in number (optional) positional \n",
    "* variable in number and mapped by keyword (irrespective of order).\n",
    "\n",
    "Variable positional parameters are specified as `*args` (*\"argument unpacking\"*).  \n",
    "Variable keyword parameters are specied as `**kwargs` (*\"keyword argument unpacking\"*).  \n",
    "If the parameter object type at run time is mutable, local changes will be reflected in the caller.  \n",
    "If no return statement is specified, the function returns the `None` object.  \n",
    "A function can accept a function as a parameter.  \n",
    "A function can return a function.  \n",
    "Lambda functions have no name."
   ]
  },
  {
   "cell_type": "code",
   "execution_count": null,
   "metadata": {},
   "outputs": [],
   "source": [
    "def unit_conversion(temperature, length, units='metric', *args, **kwargs):\n",
    "    local_args = locals()\n",
    "    return local_args"
   ]
  },
  {
   "cell_type": "code",
   "execution_count": null,
   "metadata": {},
   "outputs": [],
   "source": [
    "unit_conversion(32, 100)"
   ]
  },
  {
   "cell_type": "code",
   "execution_count": null,
   "metadata": {},
   "outputs": [],
   "source": [
    "unit_conversion(32, 100, 'english', 'opt1', 'opt2', estimate_method='interpolate', decimals=2)"
   ]
  },
  {
   "cell_type": "code",
   "execution_count": null,
   "metadata": {},
   "outputs": [],
   "source": [
    "def var_args(*args):\n",
    "    local_args = locals()\n",
    "    return local_args\n",
    "test_args = (1,2,3)\n",
    "var_args(*test_args)"
   ]
  },
  {
   "cell_type": "code",
   "execution_count": null,
   "metadata": {},
   "outputs": [],
   "source": [
    "def fixed_args(estimate_method, decimals):\n",
    "    local_args = locals()\n",
    "    return local_args \n",
    "test_kwargs = {'estimate_method': 'average', 'decimals': 2 }\n",
    "fixed_args(**test_kwargs)"
   ]
  },
  {
   "cell_type": "code",
   "execution_count": null,
   "metadata": {},
   "outputs": [],
   "source": [
    "def kword_args(**kwargs):\n",
    "    local_args = locals()\n",
    "    return local_args  \n",
    "test_kwargs = {'estimate_method': 'average', 'decimals': 2}\n",
    "kword_args(**test_kwargs)"
   ]
  },
  {
   "cell_type": "code",
   "execution_count": null,
   "metadata": {},
   "outputs": [],
   "source": [
    "kword_args(decimals=2, estimate_method='average')"
   ]
  },
  {
   "cell_type": "code",
   "execution_count": null,
   "metadata": {},
   "outputs": [],
   "source": [
    "import math\n",
    "# pass function as an argument\n",
    "def funcall(f, x):\n",
    "    return f(x)\n",
    "sin = math.sin\n",
    "cos = math.cos\n",
    "dis.dis(funcall)"
   ]
  },
  {
   "cell_type": "code",
   "execution_count": null,
   "metadata": {},
   "outputs": [],
   "source": [
    "funcall(sin, math.pi/2.0)"
   ]
  },
  {
   "cell_type": "code",
   "execution_count": null,
   "metadata": {},
   "outputs": [],
   "source": [
    "funcall(cos, 0.0)"
   ]
  },
  {
   "cell_type": "code",
   "execution_count": null,
   "metadata": {},
   "outputs": [],
   "source": [
    "trig_functions = {'seno': sin, 'coseno': cos}\n",
    "def function_by_name(fname):\n",
    "    f = trig_functions.get(fname, None)\n",
    "    if f is not None:\n",
    "        return f\n",
    "    else:\n",
    "        raise ValueError('{} function not found.'.format(fname))"
   ]
  },
  {
   "cell_type": "code",
   "execution_count": null,
   "metadata": {},
   "outputs": [],
   "source": [
    "function_by_name('seno')(math.pi/4.0)"
   ]
  },
  {
   "cell_type": "code",
   "execution_count": null,
   "metadata": {},
   "outputs": [],
   "source": [
    "function_by_name('unknown')(math.pi/4.0)"
   ]
  },
  {
   "cell_type": "markdown",
   "metadata": {},
   "source": [
    "#### Decorators\n",
    "Sometimes it is necesary to do the following:  \n",
    "`def g: pass  `  \n",
    "`def f(): pass  `  \n",
    "`f = g(f) `   \n",
    "Decorators provide syntactic sugar to succintly express the above as:  \n",
    "`@g def f(): pass`  \n",
    "Examples: @classmethod, @route, @pytest.fixture, @autograph.convert"
   ]
  },
  {
   "cell_type": "code",
   "execution_count": null,
   "metadata": {},
   "outputs": [],
   "source": [
    "# Save previously computed results to speed future computation\n",
    "def memoize(f):\n",
    "    cache = {}\n",
    "    def wrapper(x):\n",
    "        if trace: print(\"cache:{}\".format(cache))\n",
    "        if x not in cache:    \n",
    "            if trace: print(\"compute f(x)\")\n",
    "            cache[x] = f(x)\n",
    "        return cache[x]\n",
    "    return wrapper"
   ]
  },
  {
   "cell_type": "code",
   "execution_count": null,
   "metadata": {},
   "outputs": [],
   "source": [
    "trace=False\n",
    "@memoize\n",
    "def fib(n):\n",
    "    if trace: print(\"fib({})\".format(n))\n",
    "    if n == 0:\n",
    "        return 0\n",
    "    elif n == 1:\n",
    "        return 1\n",
    "    else:\n",
    "        return fib(n-1) + fib(n-2)"
   ]
  },
  {
   "cell_type": "code",
   "execution_count": null,
   "metadata": {},
   "outputs": [],
   "source": [
    "dis.dis(memoize)"
   ]
  },
  {
   "cell_type": "code",
   "execution_count": null,
   "metadata": {},
   "outputs": [],
   "source": [
    "%timeit -n 1 -r 1 fib(10)"
   ]
  },
  {
   "cell_type": "code",
   "execution_count": null,
   "metadata": {},
   "outputs": [],
   "source": [
    "%timeit -n 1 -r 1 fib(11)"
   ]
  },
  {
   "cell_type": "code",
   "execution_count": null,
   "metadata": {},
   "outputs": [],
   "source": [
    "trace = False\n",
    "fib(100)"
   ]
  },
  {
   "cell_type": "markdown",
   "metadata": {},
   "source": [
    "#### Lambda functions\n",
    "Python has a limited version of lambda functions (compared to, say, LISP)  \n",
    "Argument list + single expression + implicit return"
   ]
  },
  {
   "cell_type": "code",
   "execution_count": null,
   "metadata": {},
   "outputs": [],
   "source": [
    "# think of this as a function literal\n",
    "lambda x : x**2"
   ]
  },
  {
   "cell_type": "code",
   "execution_count": null,
   "metadata": {},
   "outputs": [],
   "source": [
    "funcall(lambda x : x**2, math.pi)"
   ]
  },
  {
   "cell_type": "code",
   "execution_count": null,
   "metadata": {},
   "outputs": [],
   "source": [
    "def return_square():\n",
    "    return lambda x : x**2\n",
    "return_square"
   ]
  },
  {
   "cell_type": "code",
   "execution_count": null,
   "metadata": {},
   "outputs": [],
   "source": [
    "square = return_square()\n",
    "square(2.0)"
   ]
  },
  {
   "cell_type": "code",
   "execution_count": null,
   "metadata": {},
   "outputs": [],
   "source": [
    "# map returns an iterator for efficiency\n",
    "squared = map(lambda x : x**2, [1.0,2.0,3.0])"
   ]
  },
  {
   "cell_type": "code",
   "execution_count": null,
   "metadata": {},
   "outputs": [],
   "source": [
    "[val for val in squared]"
   ]
  },
  {
   "cell_type": "markdown",
   "metadata": {},
   "source": [
    "## Classes\n",
    "As expected, Python classes are objects too.  \n",
    "A class creates objects according to a given class definition.  \n",
    "Metaclasses create class objects.  \n",
    "A class has type `type` and `type` is a metaclass.  \n",
    "A class can inherit from multiple classes.  \n",
    "Classes can be created dynamically.  \n"
   ]
  },
  {
   "cell_type": "code",
   "execution_count": null,
   "metadata": {},
   "outputs": [],
   "source": [
    " # this class created with `class`statement\n",
    "class Pass:\n",
    "    pass"
   ]
  },
  {
   "cell_type": "code",
   "execution_count": null,
   "metadata": {},
   "outputs": [],
   "source": [
    "dir(Pass)"
   ]
  },
  {
   "cell_type": "code",
   "execution_count": null,
   "metadata": {},
   "outputs": [],
   "source": [
    "type(Pass)"
   ]
  },
  {
   "cell_type": "code",
   "execution_count": null,
   "metadata": {},
   "outputs": [],
   "source": [
    "# this class created by executing given statement string\n",
    "exec('class Foo: pass')"
   ]
  },
  {
   "cell_type": "code",
   "execution_count": null,
   "metadata": {},
   "outputs": [],
   "source": [
    "Foo, id(Foo)"
   ]
  },
  {
   "cell_type": "code",
   "execution_count": null,
   "metadata": {},
   "outputs": [],
   "source": [
    "foo = Foo()"
   ]
  },
  {
   "cell_type": "code",
   "execution_count": null,
   "metadata": {},
   "outputs": [],
   "source": [
    "foo, id(foo)"
   ]
  },
  {
   "cell_type": "code",
   "execution_count": null,
   "metadata": {},
   "outputs": [],
   "source": [
    "dir(foo)"
   ]
  },
  {
   "cell_type": "code",
   "execution_count": null,
   "metadata": {},
   "outputs": [],
   "source": [
    "isinstance(foo, Foo), isinstance(foo, Pass)"
   ]
  },
  {
   "cell_type": "code",
   "execution_count": null,
   "metadata": {},
   "outputs": [],
   "source": [
    "# what does this print? does it make sense?\n",
    "callable(Pass)"
   ]
  },
  {
   "cell_type": "code",
   "execution_count": null,
   "metadata": {},
   "outputs": [],
   "source": [
    "# what does this print?\n",
    "list(map(str, [1,2,3]))\n"
   ]
  },
  {
   "cell_type": "markdown",
   "metadata": {},
   "source": [
    "### Inheritance"
   ]
  },
  {
   "cell_type": "code",
   "execution_count": null,
   "metadata": {},
   "outputs": [],
   "source": [
    "# sample class hierarchy\n",
    "# some gotchas\n",
    "class Animal():\n",
    "    kind = \"Biotic\"\n",
    "    def __init__(this):\n",
    "        this.age = 0\n",
    "    def reproduce(): pass\n",
    "    def die(): pass\n",
    "    def live(): pass\n",
    "\n",
    "\n",
    "class Duck(Animal):\n",
    "    phylum = \"Cordata\"\n",
    "    def __init__(this, name):\n",
    "        super(Animal).__init__()\n",
    "        this.name = name\n",
    "    def quack(): pass\n",
    "    \n",
    "donald = Duck(\"Donald\")\n",
    "donald.girlfriend = Duck(\"Daisy\")"
   ]
  },
  {
   "cell_type": "code",
   "execution_count": null,
   "metadata": {},
   "outputs": [],
   "source": [
    "wild = Animal()"
   ]
  },
  {
   "cell_type": "code",
   "execution_count": null,
   "metadata": {},
   "outputs": [],
   "source": [
    "wild.age"
   ]
  },
  {
   "cell_type": "code",
   "execution_count": null,
   "metadata": {},
   "outputs": [],
   "source": [
    "setattr(wild, 'age', 50)\n",
    "wild.age"
   ]
  },
  {
   "cell_type": "code",
   "execution_count": null,
   "metadata": {},
   "outputs": [],
   "source": [
    "delattr(wild, 'age')\n",
    "hasattr(wild, 'age')"
   ]
  },
  {
   "cell_type": "code",
   "execution_count": null,
   "metadata": {},
   "outputs": [],
   "source": [
    "hasattr(Animal, 'age')"
   ]
  },
  {
   "cell_type": "markdown",
   "metadata": {},
   "source": [
    "What is a `mappingproxy`?"
   ]
  },
  {
   "cell_type": "code",
   "execution_count": null,
   "metadata": {},
   "outputs": [],
   "source": [
    "[attr for attr in dir(Animal) if not attr.startswith('_')]"
   ]
  },
  {
   "cell_type": "code",
   "execution_count": null,
   "metadata": {},
   "outputs": [],
   "source": [
    "[attr for attr in dir(Duck) if not attr.startswith('_')]"
   ]
  },
  {
   "cell_type": "code",
   "execution_count": null,
   "metadata": {},
   "outputs": [],
   "source": [
    "[attr for attr in dir(donald) if not attr.startswith('_')]"
   ]
  },
  {
   "cell_type": "code",
   "execution_count": null,
   "metadata": {},
   "outputs": [],
   "source": [
    "# which Duck attributes are methods?\n",
    "[attr for attr in dir(Duck) if not attr.startswith('_') and callable(getattr(Duck,attr))]"
   ]
  },
  {
   "cell_type": "code",
   "execution_count": null,
   "metadata": {},
   "outputs": [],
   "source": [
    "Animal.kingdom = \"Animalia\""
   ]
  },
  {
   "cell_type": "code",
   "execution_count": null,
   "metadata": {},
   "outputs": [],
   "source": [
    "daffy = Duck(\"Daffy\")\n",
    "daffy.kingdom"
   ]
  },
  {
   "cell_type": "markdown",
   "metadata": {},
   "source": [
    "### Method resolution order\n",
    "\n",
    "When accesing attributes for an object that is a member of a class hierarchy, the attribute may be in the object or in one of its super classes.  \n",
    "Resolving methods in class hierarchies requires a method resolution order. For example:"
   ]
  },
  {
   "cell_type": "code",
   "execution_count": null,
   "metadata": {},
   "outputs": [],
   "source": [
    "Duck.__mro__"
   ]
  },
  {
   "cell_type": "code",
   "execution_count": null,
   "metadata": {},
   "outputs": [],
   "source": [
    "# how does a Duck represents the inheritance from Animal?\n",
    "Duck.__init_subclass__\n"
   ]
  },
  {
   "cell_type": "markdown",
   "metadata": {},
   "source": [
    "### Metaclass\n",
    "`type`creates objects of type 'type''\n",
    "In this case, arguments are name of class, tuple of base classes, and attribute dictionary.  \n",
    "Objects that create classes are called metaclasses.  \n"
   ]
  },
  {
   "cell_type": "code",
   "execution_count": null,
   "metadata": {},
   "outputs": [],
   "source": [
    "# Use `type` to create a class named Point, with class attributes x and y initialized to 0\n",
    "Point = type(\"Point\", (object,), {'x':0, 'y':0})"
   ]
  },
  {
   "cell_type": "code",
   "execution_count": null,
   "metadata": {},
   "outputs": [],
   "source": [
    "# all Point objects have same x and y at creation\n",
    "origin = Point()"
   ]
  },
  {
   "cell_type": "code",
   "execution_count": null,
   "metadata": {},
   "outputs": [],
   "source": [
    "origin.x, origin.y"
   ]
  },
  {
   "cell_type": "code",
   "execution_count": null,
   "metadata": {},
   "outputs": [],
   "source": [
    "Point.x = 100\n",
    "Point.y = 200"
   ]
  },
  {
   "cell_type": "code",
   "execution_count": null,
   "metadata": {},
   "outputs": [],
   "source": [
    "origin = Point()\n",
    "origin.x, origin.y"
   ]
  },
  {
   "cell_type": "code",
   "execution_count": null,
   "metadata": {},
   "outputs": [],
   "source": [
    "[att for att in dir(Point) if att not in dir(origin)]"
   ]
  },
  {
   "cell_type": "code",
   "execution_count": null,
   "metadata": {},
   "outputs": [],
   "source": [
    "[att for att in dir(origin) if att not in dir(Point)]"
   ]
  },
  {
   "cell_type": "markdown",
   "metadata": {},
   "source": [
    "### Special Class attributes\n",
    "`__new__` is used to create the object  \n",
    "`__init__` is used to initialize an object after it has been created   "
   ]
  },
  {
   "cell_type": "code",
   "execution_count": null,
   "metadata": {},
   "outputs": [],
   "source": [
    "# Limit number of instances to no more than 1\n",
    "class Singleton(object):\n",
    "    _instance = None  # Keep instance reference     \n",
    "    def __new__(cls, *args, **kwargs):\n",
    "        if not cls._instance:\n",
    "            cls._instance = object.__new__(cls)\n",
    "        return cls._instance\n",
    "    def __init__(self, name):\n",
    "        self.name = name"
   ]
  },
  {
   "cell_type": "code",
   "execution_count": null,
   "metadata": {},
   "outputs": [],
   "source": [
    "one = Singleton('First')\n",
    "two = Singleton('Second')\n",
    "one, two, one.name, two.name"
   ]
  },
  {
   "cell_type": "markdown",
   "metadata": {},
   "source": [
    "We can do something similar with `type`:"
   ]
  },
  {
   "cell_type": "code",
   "execution_count": null,
   "metadata": {},
   "outputs": [],
   "source": [
    "# x and y are instance variables\n",
    "def point_init(self, x,y):\n",
    "    self.x = x\n",
    "    self.y = y\n",
    "Point = type(\"Point\", (object,), {'__init__': point_init})"
   ]
  },
  {
   "cell_type": "code",
   "execution_count": null,
   "metadata": {},
   "outputs": [],
   "source": [
    "data_point = Point(100, 200)"
   ]
  },
  {
   "cell_type": "code",
   "execution_count": null,
   "metadata": {},
   "outputs": [],
   "source": [
    "data_point.x, data_point.y"
   ]
  },
  {
   "cell_type": "code",
   "execution_count": null,
   "metadata": {},
   "outputs": [],
   "source": [
    "[att for att in dir(Point) if att not in dir(data_point)]"
   ]
  },
  {
   "cell_type": "code",
   "execution_count": null,
   "metadata": {},
   "outputs": [],
   "source": [
    "data_point.__class__.__class__"
   ]
  },
  {
   "cell_type": "markdown",
   "metadata": {},
   "source": [
    "### Abstract classes\n",
    "Abstract classes serve as 'templates' for subclasses, but are not meant to have instances. In Python, an abstract class has one or more abstract methods.  \n",
    "The abc module provides support for abstract classes and methods."
   ]
  },
  {
   "cell_type": "code",
   "execution_count": null,
   "metadata": {},
   "outputs": [],
   "source": [
    "from abc import ABC,abstractmethod \n",
    "class Animal(ABC):\n",
    "    kind = \"Biotic\"\n",
    "    @abstractmethod\n",
    "    def reproduce(): pass\n",
    "    @abstractmethod\n",
    "    def die(): pass\n",
    "    @abstractmethod\n",
    "    def live(): pass\n",
    "\n",
    "\n",
    "class Duck(Animal):\n",
    "    phylum = \"Cordata\"\n",
    "    def __init__(this, name):\n",
    "        this.name = name\n",
    "    def reproduce(self): \n",
    "        print('Reproducing..!')\n",
    "    def die(self): \n",
    "        print('Goodbye, cruel world..!')\n",
    "    def live(self): \n",
    "        print('Living the life..!')\n",
    "    def quack(self): \n",
    "        print('Quack!')"
   ]
  },
  {
   "cell_type": "code",
   "execution_count": null,
   "metadata": {},
   "outputs": [],
   "source": [
    "impossible = Animal()"
   ]
  },
  {
   "cell_type": "code",
   "execution_count": null,
   "metadata": {},
   "outputs": [],
   "source": [
    "luis = Duck('Luis')"
   ]
  },
  {
   "cell_type": "code",
   "execution_count": null,
   "metadata": {},
   "outputs": [],
   "source": [
    "vars(luis)"
   ]
  },
  {
   "cell_type": "code",
   "execution_count": null,
   "metadata": {},
   "outputs": [],
   "source": [
    "Animal.reproduce()"
   ]
  },
  {
   "cell_type": "code",
   "execution_count": null,
   "metadata": {},
   "outputs": [],
   "source": [
    "luis.reproduce()"
   ]
  },
  {
   "cell_type": "code",
   "execution_count": null,
   "metadata": {},
   "outputs": [],
   "source": [
    "Duck.quack(luis)"
   ]
  }
 ],
 "metadata": {
  "kernelspec": {
   "display_name": "Python 3",
   "language": "python",
   "name": "python3"
  },
  "language_info": {
   "codemirror_mode": {
    "name": "ipython",
    "version": 3
   },
   "file_extension": ".py",
   "mimetype": "text/x-python",
   "name": "python",
   "nbconvert_exporter": "python",
   "pygments_lexer": "ipython3",
   "version": "3.7.3"
  },
  "toc-autonumbering": false,
  "toc-showcode": false,
  "toc-showmarkdowntxt": true,
  "toc-showtags": false
 },
 "nbformat": 4,
 "nbformat_minor": 4
}
