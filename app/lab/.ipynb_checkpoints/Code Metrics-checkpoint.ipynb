{
 "cells": [
  {
   "cell_type": "markdown",
   "metadata": {},
   "source": [
    "# Code Metrics\n",
    "\n",
    "Code metrics can be produced by static code analysis tools to determine complexity and non-standard practices.\n",
    "\n",
    "## Why are code metrics important?\n",
    "\n",
    "Code metrics allow developers to find problematic codebase areas that may need refactoring. In addition, some metrics such as technical debt assist developers in communicating to non-technical audiences why issues with a system are occurring.\n",
    "\n",
    "## Open source code metrics projects\n",
    "\n",
    "- Radon is a tool for obtaining raw metrics on line counts, Cyclomatic Complexity, Halstead metrics and maintainability metrics.\n",
    "\n",
    "- Pylint contains checkers for PEP8 code style compliance, design, exceptions and many other source code analysis tools.\n",
    "\n",
    "- PyFlakes parses source files for errors and reports on them.\n",
    "\n",
    "- Pyntch is a static code analyzer that attempts to detect runtime errors. It does not perform code style checking.\n",
    "\n",
    "- Prospector inspects Python source code files to give data on type and location of classes, methods and other related source information.\n",
    "\n",
    "- Flake8 is a code format style guideline enforcer. Its goal is not to gather metrics but ensure a consistent style in all of your Python programs for maximum readability. The rules for Flask8 are all defined in this list, which rolls up the Flake8 dependencies of pycodestyle, pyflakes and McCabe.\n",
    "\n",
    "Code metrics are really useful when you have a team working on a project for awhile and want to keep the code quality from degrading. However, you can easily go overboard instrumenting everything and overanalyzing the results. The following resources will introduce code metrics topics to you as well as give perspective when metrics are useful to the point of diminishing returns.\n",
    "\n",
    "## Hosted code metrics services\n",
    "\n",
    "The following tools are ready to use by going to the service, punching in the URL to your site, letting them perform their analysis and then reading the results.\n",
    "\n",
    "- Coveralls shows code coverage from test suites and other metrics to help developers improve the quality of their code.\n",
    "\n",
    "- webhint, formerly Sonarwhal scans your website for accessibility, speed and security. There is both an online version that you can point at an arbitrary URL as well as a command-line version for running yourself.\n",
    "\n",
    "- Codecov hooks into GitHub, BitBucket or GitLab and reports code coverage on your code repositories.\n",
    "\n",
    "\n",
    "## Radon example\n",
    "\n",
    "Installation"
   ]
  },
  {
   "cell_type": "raw",
   "metadata": {},
   "source": [
    "pip install radon"
   ]
  },
  {
   "cell_type": "markdown",
   "metadata": {},
   "source": [
    "## Cyclomatic Complexity Example"
   ]
  },
  {
   "cell_type": "raw",
   "metadata": {},
   "source": [
    "$ radon cc sympy/solvers/solvers.py -a -nc\n",
    "sympy/solvers/solvers.py\n",
    "    F 346:0 solve - F\n",
    "    F 1093:0 _solve - F\n",
    "    F 1434:0 _solve_system - F\n",
    "    F 2647:0 unrad - F\n",
    "    F 110:0 checksol - F\n",
    "    F 2238:0 _tsolve - F\n",
    "    F 2482:0 _invert - F\n",
    "    F 1862:0 solve_linear_system - E\n",
    "    F 1781:0 minsolve_linear_system - D\n",
    "    F 1636:0 solve_linear - D\n",
    "    F 2382:0 nsolve - C\n",
    "\n",
    "11 blocks (classes, functions, methods) analyzed.\n",
    "Average complexity: F (61.0)"
   ]
  },
  {
   "cell_type": "markdown",
   "metadata": {},
   "source": [
    "Explanation:\n",
    "\n",
    "- cc is the radon command to compute Cyclomatic Complexity\n",
    "- -a tells radon to calculate the average complexity at the end. Note that the average is computed among the shown blocks. If you want the total average, among all the blocks, regardless of what is being shown, you should use --total-average.\n",
    "- -nc tells radon to print only results with a complexity rank of C or worse. Other examples: -na (from A to F), or -nd (from D to F).\n",
    "- The letter in front of the line numbers represents the type of the block (F means function, M method and C class).\n",
    "\n",
    "[more information about cylomatic metrics](https://radon.readthedocs.io/en/latest/intro.html#cyclomatic-complexity)"
   ]
  },
  {
   "cell_type": "markdown",
   "metadata": {},
   "source": [
    "## Snakeviz example\n",
    "\n",
    "Installation"
   ]
  },
  {
   "cell_type": "code",
   "execution_count": null,
   "metadata": {},
   "outputs": [],
   "source": [
    "!pip install snakeviz"
   ]
  },
  {
   "cell_type": "markdown",
   "metadata": {},
   "source": [
    "After the installation, the snakeviz module is available but a cProfile is required, it can be created by running below command."
   ]
  },
  {
   "cell_type": "raw",
   "metadata": {},
   "source": [
    "python -m cProfile -o program.prof my_program.py"
   ]
  },
  {
   "cell_type": "markdown",
   "metadata": {},
   "source": [
    "<strong>Note:</strong> In \"my_program.py\" parameter you shouls use your python file to analize, and it is not required to run in an jupyter notebook environment."
   ]
  },
  {
   "cell_type": "markdown",
   "metadata": {},
   "source": [
    "If you have generated a profile file called program.prof you can start SnakeViz from the command line:"
   ]
  },
  {
   "cell_type": "raw",
   "metadata": {},
   "source": [
    "snakeviz program.prof"
   ]
  },
  {
   "cell_type": "markdown",
   "metadata": {},
   "source": [
    "<strong>If you are using IPython:</strong> Then use the %snakeviz (for a single line of code) and %%snakeviz (for multiple lines of code) magics to profile and view individual lines or entire blocks of code:"
   ]
  },
  {
   "cell_type": "code",
   "execution_count": null,
   "metadata": {},
   "outputs": [],
   "source": [
    "%load_ext snakeviz"
   ]
  },
  {
   "cell_type": "markdown",
   "metadata": {},
   "source": [
    "This line loads the snakeviz extension for IPython\n",
    "\n",
    "Below code is just an example that can bu used to test the snakeviz process."
   ]
  },
  {
   "cell_type": "code",
   "execution_count": null,
   "metadata": {},
   "outputs": [],
   "source": [
    "%%snakeviz\n",
    "import glob\n",
    "import hashlib\n",
    "files = glob.glob('*.txt')\n",
    "for file in files:\n",
    "    with open(file) as f:\n",
    "        print(hashlib.md5(f.read().encode('utf-8')).hexdigest())"
   ]
  },
  {
   "cell_type": "markdown",
   "metadata": {},
   "source": [
    "Then use the %snakeviz (for a single line of code) and %%snakeviz (for multiple lines of code) magics to profile and view individual lines or entire blocks of code."
   ]
  },
  {
   "cell_type": "markdown",
   "metadata": {},
   "source": [
    "## You want more about profilers?\n",
    "[Faster Python Programs - Measure, don't Guess](https://pyvideo.org/pycon-us-2019/faster-python-programs-measure-dont-guess.html)"
   ]
  },
  {
   "cell_type": "markdown",
   "metadata": {},
   "source": [
    "------\n",
    "Matt Makai (2019), Code Metrics, Retrieved from\n",
    "https://www.fullstackpython.com/code-metrics.html\n",
    "\n",
    "Michele Lacchia (May, 2019), Radon 3.0.3, Retrieved from \n",
    "https://pypi.org/project/radon/"
   ]
  }
 ],
 "metadata": {
  "kernelspec": {
   "display_name": "Python 3",
   "language": "python",
   "name": "python3"
  },
  "language_info": {
   "codemirror_mode": {
    "name": "ipython",
    "version": 3
   },
   "file_extension": ".py",
   "mimetype": "text/x-python",
   "name": "python",
   "nbconvert_exporter": "python",
   "pygments_lexer": "ipython3",
   "version": "3.7.1"
  }
 },
 "nbformat": 4,
 "nbformat_minor": 2
}
